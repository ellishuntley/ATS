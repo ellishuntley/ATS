{
 "cells": [
  {
   "cell_type": "code",
   "execution_count": 7,
   "metadata": {},
   "outputs": [
    {
     "data": {
      "text/html": [
       "<div>\n",
       "<style scoped>\n",
       "    .dataframe tbody tr th:only-of-type {\n",
       "        vertical-align: middle;\n",
       "    }\n",
       "\n",
       "    .dataframe tbody tr th {\n",
       "        vertical-align: top;\n",
       "    }\n",
       "\n",
       "    .dataframe thead th {\n",
       "        text-align: right;\n",
       "    }\n",
       "</style>\n",
       "<table border=\"1\" class=\"dataframe\">\n",
       "  <thead>\n",
       "    <tr style=\"text-align: right;\">\n",
       "      <th></th>\n",
       "      <th>position</th>\n",
       "      <th>description</th>\n",
       "    </tr>\n",
       "  </thead>\n",
       "  <tbody>\n",
       "    <tr>\n",
       "      <th>0</th>\n",
       "      <td>1.0</td>\n",
       "      <td>according to the financial times amazon compan...</td>\n",
       "    </tr>\n",
       "    <tr>\n",
       "      <th>1</th>\n",
       "      <td>1.0</td>\n",
       "      <td>more than  staff to take part in stoppages aft...</td>\n",
       "    </tr>\n",
       "    <tr>\n",
       "      <th>2</th>\n",
       "      <td>1.0</td>\n",
       "      <td>each service claims to simplify your digital o...</td>\n",
       "    </tr>\n",
       "    <tr>\n",
       "      <th>3</th>\n",
       "      <td>1.0</td>\n",
       "      <td>the apple watch ultra has hit a new alltime lo...</td>\n",
       "    </tr>\n",
       "    <tr>\n",
       "      <th>4</th>\n",
       "      <td>1.0</td>\n",
       "      <td>save  on the apple watch ultra at amazon via a...</td>\n",
       "    </tr>\n",
       "    <tr>\n",
       "      <th>...</th>\n",
       "      <td>...</td>\n",
       "      <td>...</td>\n",
       "    </tr>\n",
       "    <tr>\n",
       "      <th>1032</th>\n",
       "      <td>1.0</td>\n",
       "      <td>steve simons nikon z mastery online bootcamp f...</td>\n",
       "    </tr>\n",
       "    <tr>\n",
       "      <th>1033</th>\n",
       "      <td>1.0</td>\n",
       "      <td>lensbaby announced a new double glass ii opti...</td>\n",
       "    </tr>\n",
       "    <tr>\n",
       "      <th>1034</th>\n",
       "      <td>1.0</td>\n",
       "      <td>olympus om review in  an amazing machine today...</td>\n",
       "    </tr>\n",
       "    <tr>\n",
       "      <th>1035</th>\n",
       "      <td>1.0</td>\n",
       "      <td>an old dining room buffet became counter space...</td>\n",
       "    </tr>\n",
       "    <tr>\n",
       "      <th>1036</th>\n",
       "      <td>1.0</td>\n",
       "      <td>amd attempts to address high platform costs fo...</td>\n",
       "    </tr>\n",
       "  </tbody>\n",
       "</table>\n",
       "<p>1037 rows × 2 columns</p>\n",
       "</div>"
      ],
      "text/plain": [
       "      position                                        description\n",
       "0          1.0  according to the financial times amazon compan...\n",
       "1          1.0  more than  staff to take part in stoppages aft...\n",
       "2          1.0  each service claims to simplify your digital o...\n",
       "3          1.0  the apple watch ultra has hit a new alltime lo...\n",
       "4          1.0  save  on the apple watch ultra at amazon via a...\n",
       "...        ...                                                ...\n",
       "1032       1.0  steve simons nikon z mastery online bootcamp f...\n",
       "1033       1.0   lensbaby announced a new double glass ii opti...\n",
       "1034       1.0  olympus om review in  an amazing machine today...\n",
       "1035       1.0  an old dining room buffet became counter space...\n",
       "1036       1.0  amd attempts to address high platform costs fo...\n",
       "\n",
       "[1037 rows x 2 columns]"
      ]
     },
     "execution_count": 7,
     "metadata": {},
     "output_type": "execute_result"
    }
   ],
   "source": [
    "import pandas as pd\n",
    "import numpy as np\n",
    "\n",
    "df = pd.read_csv(\"https://tinyurl.com/ats1403\")\n",
    "df"
   ]
  },
  {
   "cell_type": "code",
   "execution_count": 8,
   "metadata": {},
   "outputs": [],
   "source": [
    "train_data = df.sample(frac=0.75)\n",
    "test_data = df.drop(train_data.index)\n",
    "\n",
    "up_words = \" \".join(train_data[train_data[\"position\"]==1]['description']).split()\n",
    "down_words = \" \".join(train_data[train_data[\"position\"]==-1]['description']).split()\n",
    "\n",
    "total_words = set(up_words + down_words)\n",
    "\n",
    "\n",
    "num_up = len(train_data[train_data[\"position\"]==1])\n",
    "num_down = len(train_data[train_data[\"position\"]==-1])\n",
    "\n",
    "word_prob = {}\n",
    "for word in total_words:\n",
    "    word_prob[word] = {\n",
    "        'prob_up': (up_words.count(word) + 0.5) / (num_up+1),\n",
    "        'prob_down': (down_words.count(word) + 0.5) / (num_down+1)\n",
    "    }\n",
    "\n",
    "#word_prob"
   ]
  },
  {
   "cell_type": "code",
   "execution_count": 15,
   "metadata": {},
   "outputs": [],
   "source": [
    "def predict(sentence):\n",
    "    PDE_list = []\n",
    "    PUE_list = []\n",
    "    for word in sentence.split():\n",
    "        if word in total_words:\n",
    "            PEU = word_prob[word][\"prob_up\"]\n",
    "            PED = word_prob[word][\"prob_down\"]\n",
    "            PUE = (PEU*0.5) / (PEU*0.5 + PED*0.5)\n",
    "            PDE = 1 - PUE\n",
    "            PUE_list.append(PUE)\n",
    "            PDE_list.append(PDE)\n",
    "\n",
    "    log_PUE = sum(np.log10(PUE_list))\n",
    "    log_PDE = sum(np.log10(PDE_list))\n",
    "\n",
    "    if log_PUE > log_PDE:\n",
    "        return 1\n",
    "    else:\n",
    "        return -1"
   ]
  },
  {
   "cell_type": "code",
   "execution_count": 16,
   "metadata": {},
   "outputs": [
    {
     "data": {
      "text/plain": [
       "0.7644787644787645"
      ]
     },
     "execution_count": 16,
     "metadata": {},
     "output_type": "execute_result"
    }
   ],
   "source": [
    "correct = 0\n",
    "incorrect = 0\n",
    "\n",
    "for index, row in test_data.iterrows():\n",
    "    prediction = predict(row[\"description\"])\n",
    "    if prediction==row[\"position\"]:\n",
    "        correct += 1\n",
    "    else:\n",
    "        incorrect += 1\n",
    "\n",
    "accuracy = correct / (correct+incorrect)\n",
    "accuracy"
   ]
  }
 ],
 "metadata": {
  "kernelspec": {
   "display_name": "venv",
   "language": "python",
   "name": "python3"
  },
  "language_info": {
   "codemirror_mode": {
    "name": "ipython",
    "version": 3
   },
   "file_extension": ".py",
   "mimetype": "text/x-python",
   "name": "python",
   "nbconvert_exporter": "python",
   "pygments_lexer": "ipython3",
   "version": "3.9.6"
  },
  "orig_nbformat": 4
 },
 "nbformat": 4,
 "nbformat_minor": 2
}
